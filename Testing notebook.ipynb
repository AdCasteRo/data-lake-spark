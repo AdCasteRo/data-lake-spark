{
 "cells": [
  {
   "cell_type": "code",
   "execution_count": 1,
   "metadata": {
    "editable": true
   },
   "outputs": [],
   "source": [
    "import configparser\n",
    "from datetime import datetime\n",
    "import os\n",
    "from pyspark.sql import SparkSession\n",
    "from pyspark.sql.functions import udf, col, monotonically_increasing_id\n",
    "from pyspark.sql.functions import year, month, dayofmonth, hour, weekofyear, date_format\n",
    "\n",
    "\n",
    "config = configparser.ConfigParser()\n",
    "config.read('dl.cfg')\n",
    "\n",
    "os.environ['AWS_ACCESS_KEY_ID']=config['AWS']['AWS_ACCESS_KEY_ID']\n",
    "os.environ['AWS_SECRET_ACCESS_KEY']=config['AWS']['AWS_SECRET_ACCESS_KEY']"
   ]
  },
  {
   "cell_type": "code",
   "execution_count": 2,
   "metadata": {
    "editable": true
   },
   "outputs": [],
   "source": [
    "    spark = SparkSession \\\n",
    "        .builder \\\n",
    "        .config(\"spark.jars.packages\", \"org.apache.hadoop:hadoop-aws:2.7.0\") \\\n",
    "        .getOrCreate()"
   ]
  },
  {
   "cell_type": "code",
   "execution_count": 3,
   "metadata": {
    "editable": true
   },
   "outputs": [],
   "source": [
    "input_data = \"s3a://udacity-dend/\"\n",
    "song_data = input_data+'song_data/A/B/*/*.json'    "
   ]
  },
  {
   "cell_type": "code",
   "execution_count": 4,
   "metadata": {
    "editable": true
   },
   "outputs": [
    {
     "name": "stdout",
     "output_type": "stream",
     "text": [
      "root\n",
      " |-- artist_id: string (nullable = true)\n",
      " |-- artist_latitude: double (nullable = true)\n",
      " |-- artist_location: string (nullable = true)\n",
      " |-- artist_longitude: double (nullable = true)\n",
      " |-- artist_name: string (nullable = true)\n",
      " |-- duration: double (nullable = true)\n",
      " |-- num_songs: long (nullable = true)\n",
      " |-- song_id: string (nullable = true)\n",
      " |-- title: string (nullable = true)\n",
      " |-- year: long (nullable = true)\n",
      "\n"
     ]
    },
    {
     "data": {
      "text/plain": [
       "[Row(artist_id='ARLTWXK1187FB5A3F8', artist_latitude=32.74863, artist_location='Fort Worth, TX', artist_longitude=-97.32925, artist_name='King Curtis', duration=326.00771, num_songs=1, song_id='SODREIN12A58A7F2E5', title='A Whiter Shade Of Pale (Live @ Fillmore West)', year=0),\n",
       " Row(artist_id='ARIOZCU1187FB3A3DC', artist_latitude=None, artist_location='Hamlet, NC', artist_longitude=None, artist_name='JOHN COLTRANE', duration=220.44689, num_songs=1, song_id='SOCEMJV12A6D4F7667', title='Giant Steps (Alternate Version_ Take 5_ Alternate)', year=0),\n",
       " Row(artist_id='ARPFHN61187FB575F6', artist_latitude=41.88415, artist_location='Chicago, IL', artist_longitude=-87.63241, artist_name='Lupe Fiasco', duration=279.97995, num_songs=1, song_id='SOWQTQZ12A58A7B63E', title='Streets On Fire (Explicit Album Version)', year=0),\n",
       " Row(artist_id='AR5S9OB1187B9931E3', artist_latitude=34.05349, artist_location='Los Angeles, CA', artist_longitude=-118.24532, artist_name='Bullet Boys', duration=156.62975, num_songs=1, song_id='SOMAPYF12A6D4FEC3E', title='All Day & All Of The Night', year=0),\n",
       " Row(artist_id='AR5T40Y1187B9996C6', artist_latitude=None, artist_location='Lulea, Sweden', artist_longitude=None, artist_name='The Bear Quartet', duration=249.3122, num_songs=1, song_id='SOAPVNX12AB0187625', title='I Remember Nights Wide Open', year=1998)]"
      ]
     },
     "execution_count": 4,
     "metadata": {},
     "output_type": "execute_result"
    }
   ],
   "source": [
    "    # read song data file\n",
    "df = spark.read.json(song_data)\n",
    "df.printSchema()\n",
    "df.head(5)"
   ]
  },
  {
   "cell_type": "code",
   "execution_count": 5,
   "metadata": {
    "editable": true
   },
   "outputs": [
    {
     "data": {
      "text/plain": [
       "Row(song_id='SODREIN12A58A7F2E5', title='A Whiter Shade Of Pale (Live @ Fillmore West)', artist_id='ARLTWXK1187FB5A3F8', year=0, duration=326.00771)"
      ]
     },
     "execution_count": 5,
     "metadata": {},
     "output_type": "execute_result"
    }
   ],
   "source": [
    "songs_table = df.select(\"song_id\",\"title\",\"artist_id\",\"year\",\"duration\")\n",
    "songs_table.head()"
   ]
  },
  {
   "cell_type": "code",
   "execution_count": 6,
   "metadata": {
    "editable": true
   },
   "outputs": [],
   "source": [
    "output_data = '/'\n",
    "songs_table.write.mode('overwrite').partitionBy(\"artist_id\",\"year\").parquet(output_data+'songs')"
   ]
  },
  {
   "cell_type": "code",
   "execution_count": 7,
   "metadata": {
    "editable": true
   },
   "outputs": [],
   "source": [
    "    # extract columns to create artists table\n",
    "    artists_table = df.select(\"artist_id\", col(\"artist_name\").alias('name'), \"artist_location\",col(\"artist_latitude\").alias('latitude'),col(\"artist_longitude\").alias('longitude'))\n",
    "    \n",
    "    # write artists table to parquet files\n",
    "    artists_table.write.mode('overwrite').parquet(output_data+'artists')"
   ]
  },
  {
   "cell_type": "code",
   "execution_count": 17,
   "metadata": {
    "editable": true
   },
   "outputs": [
    {
     "data": {
      "text/plain": [
       "Row(artist='Harmonia', auth='Logged In', firstName='Ryan', gender='M', itemInSession=0, lastName='Smith', length=655.77751, level='free', location='San Jose-Sunnyvale-Santa Clara, CA', method='PUT', page='NextSong', registration=1541016707796.0, sessionId=583, song='Sehr kosmisch', status=200, ts=1542241826796, userAgent='\"Mozilla/5.0 (X11; Linux x86_64) AppleWebKit/537.36 (KHTML, like Gecko) Ubuntu Chromium/36.0.1985.125 Chrome/36.0.1985.125 Safari/537.36\"', userId='26')"
      ]
     },
     "execution_count": 17,
     "metadata": {},
     "output_type": "execute_result"
    }
   ],
   "source": [
    "    log_data = input_data + 'log_data/*/*/*.json'\n",
    "\n",
    "    # read log data file\n",
    "    df = spark.read.json(log_data)\n",
    "    df.head()\n"
   ]
  },
  {
   "cell_type": "code",
   "execution_count": 18,
   "metadata": {
    "editable": true
   },
   "outputs": [
    {
     "data": {
      "text/plain": [
       "Row(artist='Harmonia', auth='Logged In', firstName='Ryan', gender='M', itemInSession=0, lastName='Smith', length=655.77751, level='free', location='San Jose-Sunnyvale-Santa Clara, CA', method='PUT', page='NextSong', registration=1541016707796.0, sessionId=583, song='Sehr kosmisch', status=200, ts=1542241826796, userAgent='\"Mozilla/5.0 (X11; Linux x86_64) AppleWebKit/537.36 (KHTML, like Gecko) Ubuntu Chromium/36.0.1985.125 Chrome/36.0.1985.125 Safari/537.36\"', userId='26')"
      ]
     },
     "execution_count": 18,
     "metadata": {},
     "output_type": "execute_result"
    }
   ],
   "source": [
    "df = df.filter(\"page == 'NextSong'\")\n",
    "df.head()"
   ]
  },
  {
   "cell_type": "code",
   "execution_count": 19,
   "metadata": {
    "editable": true
   },
   "outputs": [
    {
     "data": {
      "text/plain": [
       "[Row(user_id='26', first_name='Ryan', last_name='Smith', gender='M', level='free'),\n",
       " Row(user_id='7', first_name='Adelyn', last_name='Jordan', gender='F', level='free'),\n",
       " Row(user_id='71', first_name='Ayleen', last_name='Wise', gender='F', level='free'),\n",
       " Row(user_id='81', first_name='Sienna', last_name='Colon', gender='F', level='free'),\n",
       " Row(user_id='87', first_name='Dustin', last_name='Lee', gender='M', level='free')]"
      ]
     },
     "execution_count": 19,
     "metadata": {},
     "output_type": "execute_result"
    }
   ],
   "source": [
    "users_table = df.select(col(\"userId\").alias('user_id'), col(\"firstName\").alias('first_name'), col(\"lastName\").alias('last_name'), \"gender\", \"level\").dropDuplicates()\n",
    "users_table.head(5)"
   ]
  },
  {
   "cell_type": "code",
   "execution_count": 20,
   "metadata": {
    "editable": true
   },
   "outputs": [
    {
     "data": {
      "text/plain": [
       "[Row(artist='Harmonia', auth='Logged In', firstName='Ryan', gender='M', itemInSession=0, lastName='Smith', length=655.77751, level='free', location='San Jose-Sunnyvale-Santa Clara, CA', method='PUT', page='NextSong', registration=1541016707796.0, sessionId=583, song='Sehr kosmisch', status=200, ts=1542241826796, userAgent='\"Mozilla/5.0 (X11; Linux x86_64) AppleWebKit/537.36 (KHTML, like Gecko) Ubuntu Chromium/36.0.1985.125 Chrome/36.0.1985.125 Safari/537.36\"', userId='26', timestamp='1542241826')]"
      ]
     },
     "execution_count": 20,
     "metadata": {},
     "output_type": "execute_result"
    }
   ],
   "source": [
    "    get_timestamp = udf(lambda x: str(int(int(x/1000))))\n",
    "    df = df.withColumn('timestamp', get_timestamp(df.ts))\n",
    "    df.head(1)"
   ]
  },
  {
   "cell_type": "code",
   "execution_count": 21,
   "metadata": {
    "editable": true
   },
   "outputs": [
    {
     "data": {
      "text/plain": [
       "[Row(artist='Harmonia', auth='Logged In', firstName='Ryan', gender='M', itemInSession=0, lastName='Smith', length=655.77751, level='free', location='San Jose-Sunnyvale-Santa Clara, CA', method='PUT', page='NextSong', registration=1541016707796.0, sessionId=583, song='Sehr kosmisch', status=200, ts=1542241826796, userAgent='\"Mozilla/5.0 (X11; Linux x86_64) AppleWebKit/537.36 (KHTML, like Gecko) Ubuntu Chromium/36.0.1985.125 Chrome/36.0.1985.125 Safari/537.36\"', userId='26', timestamp='1542241826', start_time='1970-01-18 20:24:01.826000')]"
      ]
     },
     "execution_count": 21,
     "metadata": {},
     "output_type": "execute_result"
    }
   ],
   "source": [
    "get_datetime = udf(lambda x: str(datetime.fromtimestamp(int(x) / 1000)))\n",
    "df = df.withColumn('start_time', get_datetime(df.timestamp))\n",
    "df.head(1)"
   ]
  },
  {
   "cell_type": "code",
   "execution_count": 13,
   "metadata": {
    "editable": true
   },
   "outputs": [
    {
     "data": {
      "text/plain": [
       "[Row(start_time='1970-01-18 20:24:23.158000', year=1970, month=1, weekofyear=3, dayofmonth=18, hour=20),\n",
       " Row(start_time='1970-01-18 20:32:57.255000', year=1970, month=1, weekofyear=3, dayofmonth=18, hour=20),\n",
       " Row(start_time='1970-01-18 20:33:36.994000', year=1970, month=1, weekofyear=3, dayofmonth=18, hour=20),\n",
       " Row(start_time='1970-01-18 20:22:51.840000', year=1970, month=1, weekofyear=3, dayofmonth=18, hour=20),\n",
       " Row(start_time='1970-01-18 20:22:56.156000', year=1970, month=1, weekofyear=3, dayofmonth=18, hour=20),\n",
       " Row(start_time='1970-01-18 20:10:33.727000', year=1970, month=1, weekofyear=3, dayofmonth=18, hour=20),\n",
       " Row(start_time='1970-01-18 20:10:41.637000', year=1970, month=1, weekofyear=3, dayofmonth=18, hour=20),\n",
       " Row(start_time='1970-01-18 20:21:44.735000', year=1970, month=1, weekofyear=3, dayofmonth=18, hour=20),\n",
       " Row(start_time='1970-01-18 20:22:06.915000', year=1970, month=1, weekofyear=3, dayofmonth=18, hour=20),\n",
       " Row(start_time='1970-01-18 20:22:12.590000', year=1970, month=1, weekofyear=3, dayofmonth=18, hour=20)]"
      ]
     },
     "execution_count": 13,
     "metadata": {},
     "output_type": "execute_result"
    }
   ],
   "source": [
    "time_table =df.select(\"start_time\") \\\n",
    "    .withColumn('year',year(df.start_time)) \\\n",
    "    .withColumn('month',month(df.start_time)) \\\n",
    "    .withColumn('weekofyear',weekofyear(df.start_time)) \\\n",
    "    .withColumn('dayofmonth',dayofmonth(df.start_time)) \\\n",
    "    .withColumn('hour',hour(df.start_time)) \\\n",
    "    .dropDuplicates()\n",
    "time_table.head(10)"
   ]
  },
  {
   "cell_type": "code",
   "execution_count": 14,
   "metadata": {
    "editable": true
   },
   "outputs": [
    {
     "data": {
      "text/plain": [
       "[Row(song_id='SOCEMJV12A6D4F7667', title='Giant Steps (Alternate Version_ Take 5_ Alternate)', duration=220.44689, artist_id='ARIOZCU1187FB3A3DC', year=0, name='JOHN COLTRANE', artist_location='Hamlet, NC', latitude=None, longitude=None)]"
      ]
     },
     "execution_count": 14,
     "metadata": {},
     "output_type": "execute_result"
    }
   ],
   "source": [
    "song_table = output_data + 'songs'\n",
    "artist_table = output_data + 'artists'\n",
    "song_df = spark.read.parquet(song_table)\n",
    "artist_df = spark.read.parquet(artist_table)\n",
    "temp2_df = song_df.join(artist_df, song_df['artist_id'] == artist_df['artist_id'], \"left\").drop(artist_df['artist_id'])\n",
    "temp2_df.head(1)\n"
   ]
  },
  {
   "cell_type": "code",
   "execution_count": 22,
   "metadata": {
    "editable": true
   },
   "outputs": [],
   "source": [
    "df = df.join(temp2_df, [df['song'] == temp2_df['title'], df['artist'] == temp2_df['name']], 'left')\n"
   ]
  },
  {
   "cell_type": "code",
   "execution_count": 23,
   "metadata": {
    "editable": true
   },
   "outputs": [
    {
     "data": {
      "text/plain": [
       "Row(artist='Harmonia', auth='Logged In', firstName='Ryan', gender='M', itemInSession=0, lastName='Smith', length=655.77751, level='free', location='San Jose-Sunnyvale-Santa Clara, CA', method='PUT', page='NextSong', registration=1541016707796.0, sessionId=583, song='Sehr kosmisch', status=200, ts=1542241826796, userAgent='\"Mozilla/5.0 (X11; Linux x86_64) AppleWebKit/537.36 (KHTML, like Gecko) Ubuntu Chromium/36.0.1985.125 Chrome/36.0.1985.125 Safari/537.36\"', userId='26', timestamp='1542241826', start_time='1970-01-18 20:24:01.826000', song_id=None, title=None, duration=None, artist_id=None, year=None, name=None, artist_location=None, latitude=None, longitude=None)"
      ]
     },
     "execution_count": 23,
     "metadata": {},
     "output_type": "execute_result"
    }
   ],
   "source": [
    "df.head()"
   ]
  },
  {
   "cell_type": "code",
   "execution_count": 24,
   "metadata": {
    "editable": true
   },
   "outputs": [
    {
     "data": {
      "text/plain": [
       "[Row(songplay_id=0, start_time='1970-01-18 20:12:29.869000', user_id='97', level='paid', song_id=None, artist_id=None, session_id=293, location='Lansing-East Lansing, MI', user_agent='\"Mozilla/5.0 (X11; Linux x86_64) AppleWebKit/537.36 (KHTML, like Gecko) Chrome/37.0.2062.94 Safari/537.36\"', year=1970, month=1),\n",
       " Row(songplay_id=1, start_time='1970-01-18 20:40:29.554000', user_id='15', level='paid', song_id=None, artist_id=None, session_id=834, location='Chicago-Naperville-Elgin, IL-IN-WI', user_agent='\"Mozilla/5.0 (X11; Linux x86_64) AppleWebKit/537.36 (KHTML, like Gecko) Ubuntu Chromium/36.0.1985.125 Chrome/36.0.1985.125 Safari/537.36\"', year=1970, month=1),\n",
       " Row(songplay_id=2, start_time='1970-01-18 20:24:39.379000', user_id='80', level='paid', song_id=None, artist_id=None, session_id=611, location='Portland-South Portland, ME', user_agent='\"Mozilla/5.0 (Macintosh; Intel Mac OS X 10_9_4) AppleWebKit/537.36 (KHTML, like Gecko) Chrome/36.0.1985.143 Safari/537.36\"', year=1970, month=1),\n",
       " Row(songplay_id=3, start_time='1970-01-18 20:36:43.022000', user_id='85', level='paid', song_id=None, artist_id=None, session_id=891, location='Red Bluff, CA', user_agent='\"Mozilla/5.0 (Macintosh; Intel Mac OS X 10_10_0) AppleWebKit/537.36 (KHTML, like Gecko) Chrome/36.0.1985.143 Safari/537.36\"', year=1970, month=1),\n",
       " Row(songplay_id=4, start_time='1970-01-18 20:14:48.845000', user_id='29', level='paid', song_id=None, artist_id=None, session_id=372, location='Atlanta-Sandy Springs-Roswell, GA', user_agent='\"Mozilla/5.0 (Macintosh; Intel Mac OS X 10_9_4) AppleWebKit/537.78.2 (KHTML, like Gecko) Version/7.0.6 Safari/537.78.2\"', year=1970, month=1)]"
      ]
     },
     "execution_count": 24,
     "metadata": {},
     "output_type": "execute_result"
    }
   ],
   "source": [
    "songplay_table = df.select(monotonically_increasing_id().alias('songplay_id'), \n",
    "                           col('start_time'), \n",
    "                           col('userId').alias('user_id'),\n",
    "                           'level',\n",
    "                           'song_id',\n",
    "                           'artist_id', \n",
    "                           col('sessionId').alias('session_id'),\n",
    "                           'location', \n",
    "                           col('userAgent').alias('user_agent'),\n",
    "                           year('start_time').alias('year'),\n",
    "                           month('start_time').alias('month'))\n",
    "songplay_table.head(5)\n"
   ]
  },
  {
   "cell_type": "code",
   "execution_count": 25,
   "metadata": {
    "editable": true
   },
   "outputs": [],
   "source": [
    "songplay_table.write.mode('overwrite').partitionBy(\"year\", \"month\").parquet(output_data + 'songplay')"
   ]
  },
  {
   "cell_type": "code",
   "execution_count": 4,
   "metadata": {
    "editable": true
   },
   "outputs": [
    {
     "name": "stdout",
     "output_type": "stream",
     "text": [
      "Welcome to Sparkify Etl from Data Lake. Please, indicate where do you want to store the results: \n"
     ]
    },
    {
     "name": "stdin",
     "output_type": "stream",
     "text": [
      " /\n"
     ]
    },
    {
     "name": "stdout",
     "output_type": "stream",
     "text": [
      "/artists\n"
     ]
    }
   ],
   "source": [
    "    print('Welcome to Sparkify Etl from Data Lake. Please, indicate where do you want to store the results: ')\n",
    "    output = input()\n",
    "    print(output+'artists')"
   ]
  },
  {
   "cell_type": "code",
   "execution_count": null,
   "metadata": {
    "editable": true
   },
   "outputs": [],
   "source": []
  },
  {
   "cell_type": "code",
   "execution_count": null,
   "metadata": {
    "editable": true
   },
   "outputs": [],
   "source": []
  }
 ],
 "metadata": {
  "kernelspec": {
   "display_name": "Python 3",
   "language": "python",
   "name": "python3"
  },
  "language_info": {
   "codemirror_mode": {
    "name": "ipython",
    "version": 3
   },
   "file_extension": ".py",
   "mimetype": "text/x-python",
   "name": "python",
   "nbconvert_exporter": "python",
   "pygments_lexer": "ipython3",
   "version": "3.6.3"
  }
 },
 "nbformat": 4,
 "nbformat_minor": 4
}
